{
  "nbformat": 4,
  "nbformat_minor": 0,
  "metadata": {
    "colab": {
      "provenance": [],
      "collapsed_sections": [
        "gfr9YIJ7A5Wm"
      ],
      "toc_visible": true,
      "authorship_tag": "ABX9TyNdyuNuB3CgYBOLjoKHO459",
      "include_colab_link": true
    },
    "kernelspec": {
      "name": "python3",
      "display_name": "Python 3"
    },
    "language_info": {
      "name": "python"
    }
  },
  "cells": [
    {
      "cell_type": "markdown",
      "metadata": {
        "id": "view-in-github",
        "colab_type": "text"
      },
      "source": [
        "<a href=\"https://colab.research.google.com/github/Sofi-240/lipsRead/blob/main/NoteBookipynb.ipynb\" target=\"_parent\"><img src=\"https://colab.research.google.com/assets/colab-badge.svg\" alt=\"Open In Colab\"/></a>"
      ]
    },
    {
      "cell_type": "markdown",
      "source": [
        "# **Project - lips reading from a video with Tensorflow and Open-CV**\n",
        "\n",
        "The model has not yet been trained so there may still be changes in the model layers.\n",
        "\n",
        "---\n",
        "\n"
      ],
      "metadata": {
        "id": "M05-9gUf7JHT"
      }
    },
    {
      "cell_type": "markdown",
      "source": [
        "# Set up the project libraries\n",
        "\n"
      ],
      "metadata": {
        "id": "G3WgKehQ8TTh"
      }
    },
    {
      "cell_type": "code",
      "execution_count": null,
      "metadata": {
        "id": "X9trxfuLwdAB"
      },
      "outputs": [],
      "source": [
        "!pip install opencv-python matplotlib gdown tensorflow\n",
        "!pip install fuzzywuzzy python-Levenshtein"
      ]
    },
    {
      "cell_type": "code",
      "source": [
        "import os\n",
        "import cv2\n",
        "import tensorflow as tf\n",
        "from keras.optimizers import Adam\n",
        "from keras.callbacks import ModelCheckpoint\n",
        "from keras import layers, Input\n",
        "import numpy as np\n",
        "import random\n",
        "from matplotlib import pyplot as plt\n",
        "from fuzzywuzzy import fuzz"
      ],
      "metadata": {
        "id": "VoNXcHZwwdyV"
      },
      "execution_count": 2,
      "outputs": []
    },
    {
      "cell_type": "markdown",
      "source": [
        "# Download the data for the project\n",
        "\n",
        "1.   The data set - consisting of 1000 videos and text files containing the words spoken respectively [1]\n",
        "2.   CV2 haarcascade filse for face and mouth detection.\n",
        "\n"
      ],
      "metadata": {
        "id": "ki1qGW-B_VtL"
      }
    },
    {
      "cell_type": "code",
      "source": [
        "import gdown\n",
        "gdown.download(\n",
        "    'https://drive.google.com/file/d/1yRlZEVFMrOjHHiPUGy3PtnM_foA-P89E/view?usp=sharing',\n",
        "    'data.zip', quiet=False, fuzzy=True\n",
        ")\n",
        "gdown.extractall('/content/data.zip')"
      ],
      "metadata": {
        "id": "D1g1w8C5_D2c"
      },
      "execution_count": null,
      "outputs": []
    },
    {
      "cell_type": "markdown",
      "source": [
        "# Create the data Pipeline"
      ],
      "metadata": {
        "id": "u445TRn58BZB"
      }
    },
    {
      "cell_type": "code",
      "source": [
        "vocab = list(\"abcdefghijklmnopqrstuvwxyz'?!123456789 \")\n",
        "char2num = tf.keras.layers.StringLookup(\n",
        "    vocabulary=vocab, oov_token=\"\"\n",
        ")\n",
        "num2char = tf.keras.layers.StringLookup(\n",
        "    vocabulary=char2num.get_vocabulary(), oov_token=\"\", invert=True\n",
        ")\n",
        "\n",
        "\n",
        "def loadVideo(path):\n",
        "    cap = cv2.VideoCapture(path)\n",
        "    frames = []\n",
        "    for _ in range(int(cap.get(cv2.CAP_PROP_FRAME_COUNT))):\n",
        "        _, frame = cap.read()\n",
        "        frame = cv2.cvtColor(\n",
        "            frame, cv2.COLOR_BGR2RGB\n",
        "        )\n",
        "        frames.append(\n",
        "            tf.convert_to_tensor(\n",
        "                frame\n",
        "            )\n",
        "        )\n",
        "    cap.release()\n",
        "    frames = tf.cast(\n",
        "        frames, tf.float32\n",
        "    )\n",
        "    return frames\n",
        "\n",
        "\n",
        "def loadAlignments(path):\n",
        "    with open(path, 'r') as f:\n",
        "        lines = f.readlines()\n",
        "    words = []\n",
        "    for line in lines:\n",
        "        line = line.split()\n",
        "        if line[2] != 'sil':\n",
        "            words = [*words, ' ', line[2]]\n",
        "    words = char2num(\n",
        "        tf.reshape(\n",
        "            tf.strings.unicode_split(\n",
        "                words, input_encoding='UTF-8'\n",
        "            ), (-1)\n",
        "        )\n",
        "    )[1:]\n",
        "    return words\n",
        "\n",
        "\n",
        "def loadData(path):\n",
        "    path = path.numpy().decode('utf-8')\n",
        "    fileName = path.split('/')[-1].split('.')[0]\n",
        "    videoPath = os.path.join(\n",
        "        '/content', 'data', 's1', f'{fileName}.mpg'\n",
        "    )\n",
        "    alignmentPath = os.path.join(\n",
        "        '/content', 'data', 'alignments', 's1', f'{fileName}.align'\n",
        "    )\n",
        "    frames = loadVideo(videoPath)\n",
        "    alignments = loadAlignments(alignmentPath)\n",
        "    return frames, alignments\n",
        "\n",
        "\n",
        "def mapData(path):\n",
        "    ret = tf.py_function(\n",
        "        loadData, [path], (tf.float32, tf.int64)\n",
        "    )\n",
        "    return ret\n",
        "\n",
        "\n",
        "def createPipeline():\n",
        "    def map_dir(txt):\n",
        "        if txt.split('.')[-1] == 'mpg':\n",
        "            return True\n",
        "        return False\n",
        "\n",
        "    files = os.listdir(\n",
        "        '/content/data/s1/'\n",
        "    )\n",
        "\n",
        "    files = list(\n",
        "        filter(\n",
        "            map_dir, files\n",
        "        )\n",
        "    )\n",
        "\n",
        "    data = tf.data.Dataset.from_tensor_slices(files)\n",
        "\n",
        "    data = data.shuffle(\n",
        "        len(files), reshuffle_each_iteration=False\n",
        "    )\n",
        "\n",
        "    data = data.map(\n",
        "        map_func=mapData\n",
        "    )\n",
        "\n",
        "    data = data.padded_batch(\n",
        "        2, padded_shapes=([75, None, None, 3], [40])\n",
        "    )\n",
        "\n",
        "    data = data.prefetch(\n",
        "        tf.data.AUTOTUNE\n",
        "    )\n",
        "    return data\n"
      ],
      "metadata": {
        "id": "O3N5I-gtF306"
      },
      "execution_count": 4,
      "outputs": []
    },
    {
      "cell_type": "markdown",
      "source": [
        "# **Build the Model Layers, Loss function and model Callback with Learning rate schedual and early stoping.**\n",
        "\n",
        "\n",
        "\n",
        "---\n",
        "\n"
      ],
      "metadata": {
        "id": "cr6i_SVdGZHX"
      }
    },
    {
      "cell_type": "markdown",
      "source": [
        "# Preprocessing layer\n",
        "Perform mouth segmentation on the frames using the Haar cascade classifier from OpenCV. In order to avoid running the segmentation on all frames, the segmentation is performed by calculating the median image from the entire set of frames. Subsequently, validate the segmentation by randomly sampling a few frames from the video and repeating the process.\n",
        "\n",
        "**Note:**\n",
        "\n",
        "this process is applicable for videos where the person's movement is relatively limited, enabling the median image to adequately represent the entire sequence."
      ],
      "metadata": {
        "id": "PnsqjoHRI0PE"
      }
    },
    {
      "cell_type": "code",
      "source": [
        "class PreprocessingLayer(tf.keras.layers.Layer):\n",
        "    def __init__(self, height, width, **kwargs):\n",
        "        super(PreprocessingLayer, self).__init__(**kwargs)\n",
        "        self._out_height = height\n",
        "        self._out_width = width\n",
        "        self._out_dim = 1\n",
        "        self.resize = layers.Resizing(\n",
        "            height=self._out_height, width=self._out_width,\n",
        "            interpolation='bicubic', name='resize'\n",
        "        )\n",
        "        self.rescale = tf.keras.layers.TimeDistributed(\n",
        "            layers.Rescaling(\n",
        "                scale=1. / 255\n",
        "            ), name='rescale'\n",
        "        )\n",
        "\n",
        "    def call(self, x):\n",
        "        if x.shape[0] is None:\n",
        "            x = tf.image.rgb_to_grayscale(x)\n",
        "            x = tf.keras.layers.TimeDistributed(\n",
        "                self.resize\n",
        "            )(x)\n",
        "            return self.rescale(x)\n",
        "\n",
        "        x = tf.py_function(\n",
        "            self._mouthSegmentation, [x], x.dtype\n",
        "        )\n",
        "\n",
        "        x = self.rescale(x)\n",
        "        return x\n",
        "\n",
        "    def _mouthSegmentation(self, frames):\n",
        "        _type = frames.dtype\n",
        "        if tf.is_tensor(frames) and frames.shape[0] is not None:\n",
        "            frames = frames.numpy()\n",
        "        if frames.shape[0] is None:\n",
        "            return\n",
        "        if not isinstance(frames, np.ndarray):\n",
        "            raise ValueError(\n",
        "                'frames isinstance need to be tensor or np.ndarray array'\n",
        "            )\n",
        "\n",
        "        _init_shape = frames.shape\n",
        "\n",
        "        if len(_init_shape) < 4:\n",
        "            raise ValueError(\n",
        "                'frames shape need to be 4D (without batches) or 5D (with batches)'\n",
        "            )\n",
        "        if _init_shape[-1] != 3:\n",
        "            raise ValueError(\n",
        "                'frames need to be in RGB format'\n",
        "            )\n",
        "        if len(_init_shape) < 5:\n",
        "            frames = np.expand_dims(\n",
        "                frames, axis=0\n",
        "            )\n",
        "\n",
        "        _init_shape = frames.shape\n",
        "\n",
        "        bg_crop = []\n",
        "        face_crop = []\n",
        "        mouth_crop = np.zeros(\n",
        "            (*_init_shape[:2], self._out_height, self._out_width, 1)\n",
        "        )\n",
        "\n",
        "        frames_median_rgb = np.median(\n",
        "            frames, axis=1\n",
        "        )\n",
        "\n",
        "        for b, image_median in enumerate(frames_median_rgb):\n",
        "            image_hsv = cv2.cvtColor(\n",
        "                image_median, cv2.COLOR_RGB2HSV\n",
        "            )\n",
        "\n",
        "            threshold, image_bin = cv2.threshold(\n",
        "                image_hsv[:, :, 0].astype(np.uint8),\n",
        "                0, 1,\n",
        "                cv2.THRESH_BINARY_INV + cv2.THRESH_OTSU\n",
        "            )\n",
        "\n",
        "            kernel = np.ones(\n",
        "                (5, 5), dtype=np.uint8\n",
        "            )\n",
        "\n",
        "            image_bin = cv2.morphologyEx(\n",
        "                image_bin, cv2.MORPH_OPEN, kernel, iterations=1\n",
        "            )\n",
        "\n",
        "            points = cv2.findNonZero(image_bin)\n",
        "            if points is None:\n",
        "                bg_crop.append(frames[b])\n",
        "                continue\n",
        "\n",
        "            rect = cv2.boundingRect(points)\n",
        "\n",
        "            crop_frames = tf.image.crop_to_bounding_box(\n",
        "                frames[b],\n",
        "                offset_width=rect[0], offset_height=rect[1],\n",
        "                target_width=rect[2], target_height=rect[3]\n",
        "            )\n",
        "\n",
        "            crop_frames = tf.image.rgb_to_grayscale(\n",
        "                crop_frames\n",
        "            )\n",
        "\n",
        "            crop_frames = tf.image.adjust_contrast(\n",
        "                crop_frames, 1\n",
        "            ).numpy()\n",
        "\n",
        "            bg_crop.append(\n",
        "                crop_frames\n",
        "            )\n",
        "\n",
        "        sample_index = random.sample(\n",
        "            list(\n",
        "                range(bg_crop[0].shape[0])\n",
        "            ), 4\n",
        "        )\n",
        "\n",
        "        for crop_frames in bg_crop:\n",
        "            crop_median = np.median(\n",
        "                crop_frames, axis=0\n",
        "            ).astype(np.uint8)\n",
        "\n",
        "            face = faceCascade(crop_median)\n",
        "            face_prop = [\n",
        "                face[0][1] - face[0][0],\n",
        "                face[1][1] - face[1][0]\n",
        "            ]\n",
        "\n",
        "            for smpl in sample_index:\n",
        "                curr_frame = crop_frames[smpl]\n",
        "\n",
        "                curr_face = faceCascade(curr_frame)\n",
        "                curr_prop = [\n",
        "                    curr_face[0][1] - curr_face[0][0],\n",
        "                    curr_face[1][1] - curr_face[1][0]\n",
        "                ]\n",
        "                if (curr_face[0][0] > 0 and curr_face[0][1] < curr_frame.shape[1] - 1 and curr_prop[0] > face_prop[\n",
        "                    0]) or (\n",
        "                        face_prop[0] == curr_frame.shape[1] - 1):\n",
        "                    face[0] = curr_face[0]\n",
        "                    face_prop[0] = curr_prop[0]\n",
        "\n",
        "                if (curr_face[1][0] > 0 and curr_face[1][1] < curr_frame.shape[0] - 1 and curr_prop[1] > face_prop[\n",
        "                    1]) or (\n",
        "                        face_prop[1] == curr_frame.shape[0] - 1):\n",
        "                    face[1] = curr_face[1]\n",
        "                    face_prop[1] = curr_prop[1]\n",
        "\n",
        "            face_crop.append(\n",
        "                (\n",
        "                    crop_frames[:, face[1][0]:face[1][1], face[0][0]:face[0][1], :],\n",
        "                    crop_median[face[1][0]:face[1][1], face[0][0]:face[0][1], :]\n",
        "                )\n",
        "            )\n",
        "\n",
        "        sample_index = random.sample(\n",
        "            list(\n",
        "                range(bg_crop[0].shape[0])\n",
        "            ), 4\n",
        "        )\n",
        "\n",
        "        for b, crop in enumerate(face_crop):\n",
        "            crop_frames, crop_median = crop\n",
        "            mouth = mouthCascade(crop_median)\n",
        "            mouth_prop = [\n",
        "                mouth[0][1] - mouth[0][0],\n",
        "                mouth[1][1] - mouth[1][0]\n",
        "            ]\n",
        "\n",
        "            for smpl in sample_index:\n",
        "                curr_frame = crop_frames[smpl]\n",
        "\n",
        "                curr_mouth = mouthCascade(curr_frame)\n",
        "                curr_prop = [\n",
        "                    curr_mouth[0][1] - curr_mouth[0][0],\n",
        "                    curr_mouth[1][1] - curr_mouth[1][0]\n",
        "                ]\n",
        "\n",
        "                if (curr_mouth[0][0] > 0 and curr_mouth[0][1] < curr_frame.shape[1] - 1 and curr_prop[0] > mouth_prop[\n",
        "                    0]) or (\n",
        "                        mouth_prop[0] == curr_frame.shape[1] - 1):\n",
        "                    mouth[0] = curr_mouth[0]\n",
        "                    mouth_prop[0] = curr_prop[0]\n",
        "\n",
        "                if (curr_mouth[1][0] > curr_frame.shape[0] // 2 and curr_prop[1] > mouth_prop[1]) or (\n",
        "                        mouth_prop[1] == (curr_frame.shape[0] // 2) - 1):\n",
        "                    mouth[1] = curr_mouth[1]\n",
        "                    mouth_prop[1] = curr_prop[1]\n",
        "\n",
        "            crop_frames = crop_frames[:, mouth[1][0]:mouth[1][1], mouth[0][0]:mouth[0][1], :]\n",
        "            mouth_crop[b] = tf.cast(\n",
        "                self.resize(crop_frames), dtype=_type\n",
        "            )\n",
        "        return mouth_crop\n",
        "\n",
        "\n",
        "def faceCascade(img_gray):\n",
        "    cascade = cv2.CascadeClassifier(\n",
        "        \"/content/data/haarcascade_frontalface_default.xml\"\n",
        "    )\n",
        "\n",
        "    rect = cascade.detectMultiScale(\n",
        "        img_gray.astype(np.uint8)\n",
        "    )\n",
        "\n",
        "    if type(rect) == tuple:\n",
        "        bound = [\n",
        "            [\n",
        "                0, img_gray.shape[1] - 1\n",
        "            ],\n",
        "            [\n",
        "                0, img_gray.shape[0] - 1\n",
        "            ]\n",
        "        ]\n",
        "        return bound\n",
        "    bound = [\n",
        "        [\n",
        "            rect[0, 0], min([img_gray.shape[1] - 1, rect[0, 0] + rect[0, 2]])\n",
        "        ],\n",
        "        [\n",
        "            rect[0, 1], min([img_gray.shape[0] - 1, rect[0, 1] + rect[0, 3] + 10])\n",
        "        ],\n",
        "    ]\n",
        "    return bound\n",
        "\n",
        "\n",
        "def mouthCascade(img_gray):\n",
        "    cascade = cv2.CascadeClassifier(\n",
        "        \"/content/data/haarcascade_mcs_mouth.xml\"\n",
        "    )\n",
        "\n",
        "    rect = cascade.detectMultiScale(\n",
        "        img_gray.astype(np.uint8), 1.4\n",
        "    )\n",
        "\n",
        "    mid = img_gray.shape[0] // 2\n",
        "\n",
        "    bound = [\n",
        "        [\n",
        "            0, img_gray.shape[1] - 1\n",
        "        ],\n",
        "        [\n",
        "            mid, img_gray.shape[0] - 1\n",
        "        ]\n",
        "    ]\n",
        "\n",
        "    if type(rect) == tuple:\n",
        "        return bound\n",
        "\n",
        "    rect = rect[rect[:, 1] > mid, :]\n",
        "\n",
        "    if rect.shape[0] == 0:\n",
        "        return bound\n",
        "\n",
        "    if rect.shape[0] > 1:\n",
        "        indices = np.argsort(rect[:, 2])[::-1]\n",
        "        rect = np.reshape(\n",
        "            rect[indices[0], :], (1, 4)\n",
        "        )\n",
        "\n",
        "    bound = [\n",
        "        [\n",
        "            max([0, rect[0, 0] - 10]), min([img_gray.shape[1] - 1, rect[0, 0] + rect[0, 2] + 10])\n",
        "        ],\n",
        "        [\n",
        "            max([mid, rect[0, 1] - 10]), min([img_gray.shape[0] - 1, rect[0, 1] + rect[0, 3] + 10])\n",
        "        ],\n",
        "    ]\n",
        "    return bound"
      ],
      "metadata": {
        "id": "aO9CMhC4IbKG"
      },
      "execution_count": 10,
      "outputs": []
    },
    {
      "cell_type": "markdown",
      "source": [
        "The preprocessing layer output:"
      ],
      "metadata": {
        "id": "mVJwsvwURovX"
      }
    },
    {
      "cell_type": "code",
      "source": [
        "data = createPipeline()\n",
        "sample = iter(data).next()\n",
        "\n",
        "preprocessing = PreprocessingLayer(height=56, width=112)\n",
        "\n",
        "out = preprocessing(sample[0])"
      ],
      "metadata": {
        "id": "wT4E0hkrR6i3"
      },
      "execution_count": 11,
      "outputs": []
    },
    {
      "cell_type": "code",
      "source": [
        "print(f'Input shape: {sample[0].shape} - Output shape {out.shape}')"
      ],
      "metadata": {
        "colab": {
          "base_uri": "https://localhost:8080/"
        },
        "id": "fykJpUeuUqin",
        "outputId": "8b78ac5a-7ddd-4304-e1ad-30be531923c0"
      },
      "execution_count": 13,
      "outputs": [
        {
          "output_type": "stream",
          "name": "stdout",
          "text": [
            "Input shape: (2, 75, 288, 360, 3) - Output shape (2, 75, 56, 112, 1)\n"
          ]
        }
      ]
    },
    {
      "cell_type": "code",
      "source": [
        "_, ax = plt.subplots(1, 2)\n",
        "ax[0].imshow(sample[0][0][25].numpy().astype(np.uint8))\n",
        "ax[0].set_title('Original one frame from the video')\n",
        "ax[1].imshow(out[0][25].numpy(), cmap='gray')\n",
        "ax[1].set_title('The segmented mouth')"
      ],
      "metadata": {
        "colab": {
          "base_uri": "https://localhost:8080/",
          "height": 281
        },
        "id": "5-UD-tbeUuU0",
        "outputId": "7733bc47-8a6a-46fa-b9a1-672144872851"
      },
      "execution_count": 14,
      "outputs": [
        {
          "output_type": "execute_result",
          "data": {
            "text/plain": [
              "Text(0.5, 1.0, 'The segmented mouth')"
            ]
          },
          "metadata": {},
          "execution_count": 14
        },
        {
          "output_type": "display_data",
          "data": {
            "text/plain": [
              "<Figure size 640x480 with 2 Axes>"
            ],
            "image/png": "[encoded data removed]"
          },
          "metadata": {}
        }
      ]
    },
    {
      "cell_type": "markdown",
      "source": [
        "# Res-Net block layer"
      ],
      "metadata": {
        "id": "w0rTJ0LYI5fk"
      }
    },
    {
      "cell_type": "code",
      "source": [
        "class ResnetBlock(tf.keras.layers.Layer):\n",
        "    def __init__(self, filters, down_sample=True, **kwargs):\n",
        "        super(ResnetBlock, self).__init__(**kwargs)\n",
        "        self.__filters = filters\n",
        "        self.__down_sample = down_sample\n",
        "        self.__kernel_size = (3, 3, 3)\n",
        "        self.__strides = [(1, 2, 2), (1, 1, 1)] if down_sample else [(1, 1, 1), (1, 1, 1)]\n",
        "        self.__kernel_initializer = \"he_normal\"\n",
        "\n",
        "        self.identity_layers_names = []\n",
        "        self.block_layers_names = []\n",
        "\n",
        "        self.conv_1 = layers.Conv3D(\n",
        "            filters=self.__filters, kernel_size=self.__kernel_size,\n",
        "            strides=self.__strides[0], padding='same',\n",
        "            kernel_initializer=self.__kernel_initializer\n",
        "        )\n",
        "        self.bn_1 = layers.BatchNormalization()\n",
        "        self.act_1 = layers.Activation(\n",
        "            activation='relu'\n",
        "        )\n",
        "        self.block_layers_names += [\n",
        "            'conv_1', 'bn_1', 'act_1'\n",
        "        ]\n",
        "\n",
        "        self.conv_2 = layers.Conv3D(\n",
        "            filters=self.__filters, kernel_size=self.__kernel_size,\n",
        "            strides=self.__strides[1], padding='same',\n",
        "            kernel_initializer=self.__kernel_initializer\n",
        "        )\n",
        "        self.bn_2 = layers.BatchNormalization()\n",
        "        self.block_layers_names += [\n",
        "            'conv_2', 'bn_2',\n",
        "        ]\n",
        "\n",
        "        self.marge = layers.Add()\n",
        "        self.out = layers.Activation(\n",
        "            activation='relu'\n",
        "        )\n",
        "        self.block_layers_names += [\n",
        "            'marge', 'out',\n",
        "        ]\n",
        "\n",
        "        if self.__down_sample:\n",
        "            self.identity_conv = layers.Conv3D(\n",
        "                filters=self.__filters, kernel_size=(1, 1, 1),\n",
        "                strides=self.__strides[0], padding='same',\n",
        "                kernel_initializer=self.__kernel_initializer\n",
        "            )\n",
        "            self.identity_bn = layers.BatchNormalization()\n",
        "            self.identity_layers_names += [\n",
        "                'identity_conv', 'identity_bn'\n",
        "            ]\n",
        "\n",
        "    def call(self, x, training=False):\n",
        "        identity = x\n",
        "        for layer_name in self.identity_layers_names:\n",
        "            identity = self.__getattribute__(layer_name)(identity)\n",
        "\n",
        "        for layer_name in self.block_layers_names:\n",
        "            if layer_name == 'marge':\n",
        "                x = self.__getattribute__(layer_name)([identity, x])\n",
        "                continue\n",
        "            x = self.__getattribute__(layer_name)(x)\n",
        "\n",
        "        return x"
      ],
      "metadata": {
        "id": "pTjQsMXoI6oT"
      },
      "execution_count": 15,
      "outputs": []
    },
    {
      "cell_type": "markdown",
      "source": [
        "# Loss function - CTC (Connectionist Temporal Classification)\n",
        "\n",
        "The CTC loss allows the model to learn to align input sequences of variable length with target sequences, even when there is no one-to-one correspondence between the input and target elements."
      ],
      "metadata": {
        "id": "Wp9IBKgsIoNo"
      }
    },
    {
      "cell_type": "code",
      "source": [
        "class CTCLoss(tf.keras.losses.Loss):\n",
        "    def __init__(self):\n",
        "        super(CTCLoss, self).__init__()\n",
        "        self.loss_function = tf.keras.backend.ctc_batch_cost\n",
        "\n",
        "    def call(self, y_true, y_pred):\n",
        "        batch_size = tf.cast(\n",
        "            tf.shape(y_true)[0], dtype='int64'\n",
        "        )\n",
        "        input_size = tf.cast(\n",
        "            tf.shape(y_pred)[1], dtype='int64'\n",
        "        )\n",
        "        input_size = input_size * tf.ones(\n",
        "            shape=(batch_size, 1), dtype='int64'\n",
        "        )\n",
        "\n",
        "        label_size = tf.cast(\n",
        "            tf.shape(y_true)[1], dtype='int64'\n",
        "        )\n",
        "        label_size = label_size * tf.ones(\n",
        "            shape=(batch_size, 1), dtype='int64'\n",
        "        )\n",
        "\n",
        "        loss = self.loss_function(\n",
        "            y_true=y_true, y_pred=y_pred, input_length=input_size, label_length=label_size\n",
        "        )\n",
        "        return loss"
      ],
      "metadata": {
        "id": "VHbgoh2iKFTN"
      },
      "execution_count": 17,
      "outputs": []
    },
    {
      "cell_type": "markdown",
      "source": [
        "# Fuzzy Similarity function\n",
        "In this model, the fuzzy similarity serves as an accuracy score for evaluating the model's performance during training.\n",
        "\n",
        "It also determining when to perform early stopping."
      ],
      "metadata": {
        "id": "gLdXpBn5KNQz"
      }
    },
    {
      "cell_type": "code",
      "source": [
        "class FuzzySimilarity(tf.keras.metrics.Metric):\n",
        "    def __init__(self, name='FuzzySimilarity', **kwargs):\n",
        "        super(FuzzySimilarity, self).__init__(name=name, **kwargs)\n",
        "        self.total = self.add_weight(\n",
        "            name=\"total\", initializer=\"zeros\"\n",
        "        )\n",
        "        self.count = self.add_weight(\n",
        "            name=\"count\", initializer=\"zeros\"\n",
        "        )\n",
        "\n",
        "    @staticmethod\n",
        "    def update_state_np(y_true, y_pred):\n",
        "        decoded = tf.keras.backend.ctc_decode(\n",
        "            y_pred, [y_pred.shape[1]] * y_pred.shape[0], greedy=False\n",
        "        )[0][0].numpy()\n",
        "        y_true_str = [\n",
        "            tf.strings.reduce_join(num2char(y)).numpy().decode('utf-8') for y in y_true\n",
        "        ]\n",
        "        y_pred_str = [\n",
        "            tf.strings.reduce_join(num2char(y)).numpy().decode('utf-8') for y in decoded\n",
        "        ]\n",
        "        sim = [\n",
        "            fuzz.ratio(yt, yp) / 100 for yt, yp in zip(y_true_str, y_pred_str)\n",
        "        ]\n",
        "        return sum(sim) / 2\n",
        "\n",
        "    def update_state(self, y_true, y_pred, sample_weight=None):\n",
        "        sim = tf.py_function(\n",
        "            self.update_state_np, [y_true, y_pred], tf.float32\n",
        "        )\n",
        "        self.total.assign_add(\n",
        "            tf.cast(\n",
        "                sim, self._dtype\n",
        "            )\n",
        "        )\n",
        "        self.count.assign_add(\n",
        "            tf.cast(\n",
        "                1, self._dtype\n",
        "            )\n",
        "        )\n",
        "\n",
        "    def result(self):\n",
        "        return tf.math.divide(self.total, self.count)"
      ],
      "metadata": {
        "id": "yWd9UmfDKUdW"
      },
      "execution_count": 18,
      "outputs": []
    },
    {
      "cell_type": "markdown",
      "source": [
        "# Model Callback\n",
        "The model callback implements:\n",
        "\n",
        "*   Learning rate schedule based on the Cosine Annealing with a linear warm-up.\n",
        "*   Early stopping based on fuzzy similarity"
      ],
      "metadata": {
        "id": "xMXL51OXKiEo"
      }
    },
    {
      "cell_type": "code",
      "source": [
        "class ModelCallback(tf.keras.callbacks.Callback):\n",
        "    def __init__(self, learning_rate_base=0.01, warmup_learning_rate=1e-7, warmup_steps_practice=0.1,\n",
        "                 global_step_init=0, fuzzy_patience=5):\n",
        "        super(ModelCallback, self).__init__()\n",
        "        self.learning_rate_base = learning_rate_base\n",
        "        self.warmup_learning_rate = warmup_learning_rate\n",
        "        self.warmup_steps_practice = warmup_steps_practice\n",
        "        self.global_step = global_step_init\n",
        "        self.total_steps = None\n",
        "        self.warmup_steps = None\n",
        "        self.slope = None\n",
        "        self._built = False\n",
        "        self.fuzzy_patience = fuzzy_patience\n",
        "        self._best_fuzzy = 0\n",
        "        self._fuzzy_patience_wait = 0\n",
        "\n",
        "    def _build(self):\n",
        "        self.total_steps = int(\n",
        "            self.params['epochs'] * self.params['steps']\n",
        "        )\n",
        "        self.warmup_steps = int(\n",
        "            self.total_steps * self.warmup_steps_practice\n",
        "        )\n",
        "        self.slope = (self.learning_rate_base - self.warmup_learning_rate) / self.warmup_steps\n",
        "        self._built = True\n",
        "\n",
        "    def on_batch_end(self, batch, logs=None):\n",
        "        self.global_step = self.global_step + 1\n",
        "\n",
        "    def on_batch_begin(self, batch, logs=None):\n",
        "        if not self._built:\n",
        "            self._build()\n",
        "\n",
        "        if self.total_steps < self.warmup_steps:\n",
        "            raise ValueError(\n",
        "                'total_steps must be larger or equal to warmup_steps.'\n",
        "            )\n",
        "        if (self.warmup_steps > 0) and (self.learning_rate_base < self.warmup_learning_rate):\n",
        "            raise ValueError(\n",
        "                'learning_rate_base must be larger or equal to warmup_learning_rate.'\n",
        "            )\n",
        "\n",
        "        lr = 0.5 * self.learning_rate_base * (1 + np.cos(np.pi * (\n",
        "                (self.global_step - self.warmup_steps) / (self.total_steps - self.warmup_steps)\n",
        "        )))\n",
        "\n",
        "        if self.warmup_steps > 0:\n",
        "            warmup_rate = self.slope * self.global_step + self.warmup_learning_rate\n",
        "            lr = np.where(\n",
        "                self.global_step < self.warmup_steps, warmup_rate, lr\n",
        "            )\n",
        "        lr = np.where(\n",
        "            self.global_step > self.total_steps, 0.0, lr\n",
        "        )\n",
        "        tf.keras.backend.set_value(\n",
        "            self.model.optimizer.lr, lr\n",
        "        )\n",
        "\n",
        "    def on_epoch_end(self, epoch, logs=None):\n",
        "        logs = logs or {}\n",
        "        logs['lr'] = float(\n",
        "            tf.keras.backend.get_value(self.model.optimizer.lr)\n",
        "        )\n",
        "        if logs.get('FuzzySimilarity') is not None:\n",
        "            fz = logs['FuzzySimilarity']\n",
        "            self._fuzzy_patience_wait += 1\n",
        "            if fz > self._best_fuzzy:\n",
        "                self._best_fuzzy = fz\n",
        "                self._fuzzy_patience_wait = 0\n",
        "            if self._fuzzy_patience_wait >= self.fuzzy_patience:\n",
        "                self.model.stop_training = True\n"
      ],
      "metadata": {
        "id": "RUgkTuMUKk37"
      },
      "execution_count": 19,
      "outputs": []
    },
    {
      "cell_type": "markdown",
      "source": [
        "# The Model"
      ],
      "metadata": {
        "id": "p3snzoE8KuU4"
      }
    },
    {
      "cell_type": "code",
      "source": [
        "class LipsReadModel(tf.keras.models.Model):\n",
        "    def __init__(self, input_shape, res_net_layers=10, **kwargs):\n",
        "        super(LipsReadModel, self).__init__(**kwargs)\n",
        "        self.input_layer = Input(shape=input_shape, name='Input')\n",
        "        self.layers_names = []\n",
        "\n",
        "        self.preprocessing = PreprocessingLayer(\n",
        "            height=56, width=112, name='preprocessing'\n",
        "        )\n",
        "\n",
        "        self.conv = layers.Conv3D(\n",
        "            filters=64, kernel_size=(1, 7, 7), padding='same', strides=(1, 1, 2),\n",
        "            kernel_initializer=\"he_normal\", name='conv'\n",
        "        )\n",
        "        self.bn = layers.BatchNormalization(name='bn')\n",
        "        self.max_pool = layers.MaxPool3D(\n",
        "            pool_size=(1, 3, 3), padding='same', strides=(1, 1, 1), name='max_pool'\n",
        "        )\n",
        "        self.layers_names += [\n",
        "            'preprocessing', 'conv', 'bn', 'max_pool'\n",
        "        ]\n",
        "        down_sample_cond = [False] if res_net_layers == 10 else [False, False]\n",
        "\n",
        "        for block_n, filters in enumerate([64, 128, 256, 512]):\n",
        "\n",
        "            for i, sample in enumerate(down_sample_cond):\n",
        "                name = f'block{block_n + 1}_{i + 1}'\n",
        "                self.__setattr__(\n",
        "                    name,\n",
        "                    ResnetBlock(\n",
        "                        filters=filters, down_sample=sample, name=name\n",
        "                    )\n",
        "                )\n",
        "                self.layers_names += [name]\n",
        "            down_sample_cond[0] = True\n",
        "\n",
        "        self.avg = layers.AveragePooling3D(\n",
        "            pool_size=(1, 7, 7), padding='same', name='avg'\n",
        "        )\n",
        "        self.flatten = layers.TimeDistributed(\n",
        "            layers.Flatten(), name='flatten'\n",
        "        )\n",
        "        self.layers_names += [\n",
        "            'avg', 'flatten'\n",
        "        ]\n",
        "\n",
        "        for i in range(2):\n",
        "            names = [f'lstm_{i + 1}', f'drop_{i + 1}']\n",
        "            self.__setattr__(\n",
        "                names[0],\n",
        "                layers.Bidirectional(\n",
        "                    layers.LSTM(\n",
        "                        128, kernel_initializer='Orthogonal', return_sequences=True\n",
        "                    ), name=names[0]\n",
        "                )\n",
        "            )\n",
        "            self.__setattr__(\n",
        "                names[1],\n",
        "                layers.Dropout(\n",
        "                    0.5, name=names[1]\n",
        "                )\n",
        "            )\n",
        "            self.layers_names += names\n",
        "\n",
        "        self.dense = layers.Dense(\n",
        "            char2num.vocabulary_size() + 1, kernel_initializer='he_normal',\n",
        "            activation='softmax', name='dense'\n",
        "        )\n",
        "\n",
        "        self.layers_names += [\n",
        "            'dense'\n",
        "        ]\n",
        "\n",
        "        self.output_layer = self.call(self.input_layer)\n",
        "\n",
        "        super(LipsReadModel, self).__init__(\n",
        "            inputs=self.input_layer,\n",
        "            outputs=self.output_layer\n",
        "        )\n",
        "\n",
        "    def call(self, x, training=False):\n",
        "        for layer_name in self.layers_names:\n",
        "            x = self.__getattribute__(layer_name)(x)\n",
        "        return x"
      ],
      "metadata": {
        "id": "MruCdbtcGrBQ"
      },
      "execution_count": 20,
      "outputs": []
    },
    {
      "cell_type": "markdown",
      "source": [
        "# **Model set up**\n",
        "\n",
        "---\n",
        "\n"
      ],
      "metadata": {
        "id": "yeCXeZHS9tng"
      }
    },
    {
      "cell_type": "code",
      "source": [
        "\n",
        "data = createPipeline()\n",
        "validation_size = int(0.1 * len(data))\n",
        "test_size = int(0.1 * len(data))\n",
        "\n",
        "test = data.take(test_size + validation_size)\n",
        "validation = test.take(validation_size)\n",
        "test = test.skip(validation_size)\n",
        "train = data.skip(test_size + validation_size)\n",
        "\n",
        "input_shape = data.as_numpy_iterator().next()[0][0].shape\n",
        "model = LipsReadModel(input_shape)\n",
        "model.summary()\n",
        "\n",
        "model.compile(\n",
        "    optimizer=Adam(learning_rate=1e-7), loss=CTCLoss(),\n",
        "    metrics=[FuzzySimilarity()]\n",
        ")\n",
        "\n",
        "checkpoint_callback = ModelCheckpoint(\n",
        "    os.path.join('/content', 'data', 'models', 'checkpoint'),\n",
        "    monitor='loss', save_weights_only=True\n",
        ")\n"
      ],
      "metadata": {
        "id": "npD--Y35Ga3p",
        "colab": {
          "base_uri": "https://localhost:8080/"
        },
        "outputId": "cd9165e9-b6b5-42ec-8f18-8a24caf90ab8"
      },
      "execution_count": 21,
      "outputs": [
        {
          "output_type": "stream",
          "name": "stdout",
          "text": [
            "Model: \"lips_read_model_1\"\n",
            "_________________________________________________________________\n",
            " Layer (type)                Output Shape              Param #   \n",
            "=================================================================\n",
            " Input (InputLayer)          [(None, 75, 288, 360, 3)  0         \n",
            "                             ]                                   \n",
            "                                                                 \n",
            " preprocessing (Preprocessin  (None, 75, 56, 112, 1)   0         \n",
            " gLayer)                                                         \n",
            "                                                                 \n",
            " conv (Conv3D)               (None, 75, 56, 56, 64)    3200      \n",
            "                                                                 \n",
            " bn (BatchNormalization)     (None, 75, 56, 56, 64)    256       \n",
            "                                                                 \n",
            " max_pool (MaxPooling3D)     (None, 75, 56, 56, 64)    0         \n",
            "                                                                 \n",
            " block1_1 (ResnetBlock)      (None, 75, 56, 56, 64)    221824    \n",
            "                                                                 \n",
            " block2_1 (ResnetBlock)      (None, 75, 28, 28, 128)   673664    \n",
            "                                                                 \n",
            " block3_1 (ResnetBlock)      (None, 75, 14, 14, 256)   2690816   \n",
            "                                                                 \n",
            " block4_1 (ResnetBlock)      (None, 75, 7, 7, 512)     10755584  \n",
            "                                                                 \n",
            " avg (AveragePooling3D)      (None, 75, 1, 1, 512)     0         \n",
            "                                                                 \n",
            " flatten (TimeDistributed)   (None, 75, 512)           0         \n",
            "                                                                 \n",
            " lstm_1 (Bidirectional)      (None, 75, 256)           656384    \n",
            "                                                                 \n",
            " drop_1 (Dropout)            (None, 75, 256)           0         \n",
            "                                                                 \n",
            " lstm_2 (Bidirectional)      (None, 75, 256)           394240    \n",
            "                                                                 \n",
            " drop_2 (Dropout)            (None, 75, 256)           0         \n",
            "                                                                 \n",
            " dense (Dense)               (None, 75, 41)            10537     \n",
            "                                                                 \n",
            "=================================================================\n",
            "Total params: 15,406,505\n",
            "Trainable params: 15,400,745\n",
            "Non-trainable params: 5,760\n",
            "_________________________________________________________________\n"
          ]
        }
      ]
    },
    {
      "cell_type": "code",
      "source": [
        "model.fit(\n",
        "    train, validation_data=validation, epochs=100,\n",
        "    callbacks=[checkpoint_callback, ModelCallback()]\n",
        ")"
      ],
      "metadata": {
        "id": "ZvXM4j-JY8oK"
      },
      "execution_count": null,
      "outputs": []
    },
    {
      "cell_type": "markdown",
      "source": [
        "# Reference"
      ],
      "metadata": {
        "id": "gfr9YIJ7A5Wm"
      }
    },
    {
      "cell_type": "markdown",
      "source": [
        "[1] https://github.com/nicknochnack/LipNet/blob/main/LipNet.ipynb\n",
        "\n",
        "[2] https://arxiv.org/abs/1611.01599"
      ],
      "metadata": {
        "id": "kFfyykFWA_AZ"
      }
    }
  ]
}